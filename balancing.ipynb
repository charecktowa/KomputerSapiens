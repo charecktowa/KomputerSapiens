{
 "cells": [
  {
   "attachments": {},
   "cell_type": "markdown",
   "metadata": {},
   "source": [
    "# Impacto del desbalanceo de datos \n",
    "lorem ipsum dolor sit amet, "
   ]
  },
  {
   "cell_type": "code",
   "execution_count": 91,
   "metadata": {},
   "outputs": [],
   "source": [
    "def reduction(malignant: int, decrement: float, i: int):\n",
    "    return int(round(malignant - decrement * i))"
   ]
  },
  {
   "cell_type": "code",
   "execution_count": 2,
   "metadata": {},
   "outputs": [
    {
     "name": "stdout",
     "output_type": "stream",
     "text": [
      "Benign: 2480, Malignant: 5429, Decrement: 147.45\n",
      "Benign: 2480, Malignant: 5429\n",
      "Benign: 2480, Malignant: 5282\n",
      "Benign: 2480, Malignant: 5134\n",
      "Benign: 2480, Malignant: 4987\n",
      "Benign: 2480, Malignant: 4839\n",
      "Benign: 2480, Malignant: 4692\n",
      "Benign: 2480, Malignant: 4544\n",
      "Benign: 2480, Malignant: 4397\n",
      "Benign: 2480, Malignant: 4249\n",
      "Benign: 2480, Malignant: 4102\n",
      "Benign: 2480, Malignant: 3954\n",
      "Benign: 2480, Malignant: 3807\n",
      "Benign: 2480, Malignant: 3660\n",
      "Benign: 2480, Malignant: 3512\n",
      "Benign: 2480, Malignant: 3365\n",
      "Benign: 2480, Malignant: 3217\n",
      "Benign: 2480, Malignant: 3070\n",
      "Benign: 2480, Malignant: 2922\n",
      "Benign: 2480, Malignant: 2775\n",
      "Benign: 2480, Malignant: 2627\n",
      "Benign: 2480, Malignant: 2480\n"
     ]
    }
   ],
   "source": [
    "benign = 2480\n",
    "malignant = 5429\n",
    "decrement = round((malignant - benign) * 0.05, 2)\n",
    "\n",
    "print(f\"Benign: {benign}, Malignant: {malignant}, Decrement: {decrement}\")\n",
    "\n",
    "output = malignant\n",
    "i = 0\n",
    "while output > benign:\n",
    "    output = int(round(malignant - decrement * i))\n",
    "    print(f\"Benign: {benign}, Malignant: {output}\")\n",
    "    i += 1"
   ]
  },
  {
   "cell_type": "code",
   "execution_count": 93,
   "metadata": {},
   "outputs": [],
   "source": [
    "# !bash move-images.sh"
   ]
  },
  {
   "cell_type": "code",
   "execution_count": 14,
   "metadata": {},
   "outputs": [
    {
     "ename": "",
     "evalue": "",
     "output_type": "error",
     "traceback": [
      "\u001b[1;31mCanceled future for execute_request message before replies were done"
     ]
    },
    {
     "ename": "",
     "evalue": "",
     "output_type": "error",
     "traceback": [
      "\u001b[1;31mEl Kernel se bloqueó al ejecutar código en la celda actual o en una celda anterior. Revise el código de las celdas para identificar una posible causa del error. Haga clic <a href='https://aka.ms/vscodeJupyterKernelCrash'>aquí</a> para obtener más información. Vea el [registro] de Jupyter (command:jupyter.viewOutput) para obtener más detalles."
     ]
    }
   ],
   "source": [
    "import glob\n",
    "import numpy as np\n",
    "\n",
    "from PIL import Image\n",
    "\n",
    "# Cargamos el dataset como numpy array\n",
    "def load_dataset(path: str) -> tuple[np.ndarray, np.ndarray]:\n",
    "    images_path = glob.glob(f\"{path}/*/*.png\")\n",
    "\n",
    "    images = []\n",
    "    labels = []\n",
    "    for image in images_path:\n",
    "        label = 0 if image.split(\"/\")[-2] == \"benign\" else 1\n",
    "        img = Image.open(image)\n",
    "        img = img.resize((64, 64))\n",
    "\n",
    "        img = np.array(img) / 255.0\n",
    "\n",
    "        images.append(img)\n",
    "        labels.append(label)\n",
    "\n",
    "    return np.array(images), np.array(labels)\n",
    "\n",
    "X, y = load_dataset(\"./BreaKHis_v1/histology_slides/breast\")"
   ]
  },
  {
   "cell_type": "code",
   "execution_count": null,
   "metadata": {},
   "outputs": [
    {
     "name": "stdout",
     "output_type": "stream",
     "text": [
      "(7909, 64, 64, 3) (7909,)\n"
     ]
    }
   ],
   "source": [
    "print(X.shape, y.shape)"
   ]
  },
  {
   "cell_type": "code",
   "execution_count": null,
   "metadata": {},
   "outputs": [],
   "source": [
    "def create_balanceset(X: np.ndarray, y: np.ndarray, images: int):\n",
    "    # Obtenemos los indices de las imágenes malignas\n",
    "    malignant_indexes = np.where(y == 1)[0]\n",
    "\n",
    "    # Elegimos i imagenes aleatorias\n",
    "    malignant_indexes = np.random.choice(malignant_indexes, images, replace=False)\n",
    "\n",
    "    # Obtenemos todas las imágenes benignas\n",
    "    benign_indexes = np.where(y == 0)[0]\n",
    "\n",
    "    # Concatenamos los indices\n",
    "    indexes = np.concatenate((malignant_indexes, benign_indexes))\n",
    "\n",
    "    # Obtenemos las imagenes y las etiquetas\n",
    "    X = X[indexes]\n",
    "    y = y[indexes]\n",
    "\n",
    "    return X, y\n",
    "\n",
    "# Ahora vamos a crear multiples datasets segun los porcentajes\n",
    "def create_balanceset_2(X: np.ndarray, y: np.ndarray, percentage: int, malignant: int):\n",
    "    # Obtenemos la candidad de clases\n",
    "    benign = np.sum(y == 0)\n",
    "\n",
    "    pctg = calculate_percentage(malignant, percentage)\n",
    "\n",
    "    # Obtenemos la cantidad de imágenes que se tendran en el dataset\n",
    "    malignant_images = malignant - pctg\n",
    "\n",
    "    if malignant_images <= benign:\n",
    "        malignant_images = 2480\n",
    "\n",
    "    # Elegimos n (malignant_images) imagenes aleatorias de la clase maligna\n",
    "\n",
    "    ## Obtenemos los indices de las imagenes malignas\n",
    "    malignant_indexes = np.where(y == 1)[0]\n",
    "\n",
    "    ## Elegimos n imagenes aleatorias\n",
    "    malignant_indexes = np.random.choice(malignant_indexes, malignant_images, replace=False)\n",
    "\n",
    "    ## Obtenemos todas las imágenes benignas\n",
    "    benign_indexes = np.where(y == 0)[0]\n",
    "\n",
    "    ## Concatenamos los indices\n",
    "    indexes = np.concatenate((malignant_indexes, benign_indexes))\n",
    "\n",
    "    ## Obtenemos las imagenes y las etiquetas\n",
    "    X = X[indexes]\n",
    "    y = y[indexes]\n",
    "\n",
    "    return X, y, pctg"
   ]
  },
  {
   "attachments": {},
   "cell_type": "markdown",
   "metadata": {},
   "source": [
    "70 entrenamiento\n",
    "20 prueba\n",
    "10 validación"
   ]
  },
  {
   "cell_type": "code",
   "execution_count": null,
   "metadata": {},
   "outputs": [],
   "source": [
    "import torch\n",
    "from torch.utils.data import TensorDataset, DataLoader\n",
    "from torch.utils.data import random_split\n",
    "from collections import Counter\n",
    "\n",
    "\n",
    "def create_torchset(X_np: np.ndarray, y_np: np.ndarray) -> TensorDataset:\n",
    "    return TensorDataset(torch.from_numpy(X_np), torch.from_numpy(y_np))\n",
    "\n",
    "def create_dataloader():\n",
    "    pass\n",
    "\n",
    "def split_dataset(data: TensorDataset) -> tuple:\n",
    "    size = len(data)\n",
    "\n",
    "    test_size = int(0.2 * size)\n",
    "    train_val_size = size - test_size\n",
    "    train_size = int(0.7 * train_val_size)\n",
    "    val_size = train_val_size - train_size\n",
    "\n",
    "    train_set, val_set, test_set = random_split(\n",
    "        data, [train_size, val_size, test_size]\n",
    "    )\n",
    "\n",
    "    print(f\"Número de muestras en el conjunto de entrenamiento: {len(train_set)}\")\n",
    "    print(f\"Número de muestras en el conjunto de validación: {len(val_set)}\")\n",
    "    print(f\"Número de muestras en el conjunto de prueba: {len(test_set)}\")\n",
    "\n",
    "    print(dict(Counter(train_set.targets)))\n",
    "\n",
    "    return train_set, test_set, val_set"
   ]
  },
  {
   "cell_type": "code",
   "execution_count": null,
   "metadata": {},
   "outputs": [
    {
     "name": "stdout",
     "output_type": "stream",
     "text": [
      "There are 2480 benign images and 5429 malignant images\n"
     ]
    },
    {
     "ename": "KeyboardInterrupt",
     "evalue": "",
     "output_type": "error",
     "traceback": [
      "\u001b[0;31m---------------------------------------------------------------------------\u001b[0m",
      "\u001b[0;31mKeyboardInterrupt\u001b[0m                         Traceback (most recent call last)",
      "Cell \u001b[0;32mIn[13], line 16\u001b[0m\n\u001b[1;32m     12\u001b[0m xx, yy \u001b[39m=\u001b[39m X, y\n\u001b[1;32m     14\u001b[0m X_reduced, y_reduced \u001b[39m=\u001b[39m create_balanceset(xx, yy, output)\n\u001b[0;32m---> 16\u001b[0m unique, counts \u001b[39m=\u001b[39m np\u001b[39m.\u001b[39;49munique(y_reduced, return_counts\u001b[39m=\u001b[39;49m\u001b[39mTrue\u001b[39;49;00m)\n\u001b[1;32m     17\u001b[0m \u001b[39mprint\u001b[39m(\u001b[39mdict\u001b[39m(\u001b[39mzip\u001b[39m(unique, counts)))\n\u001b[1;32m     19\u001b[0m dataset \u001b[39m=\u001b[39m create_torchset(X_reduced, y_reduced)\n",
      "File \u001b[0;32m<__array_function__ internals>:177\u001b[0m, in \u001b[0;36munique\u001b[0;34m(*args, **kwargs)\u001b[0m\n",
      "\u001b[0;31mKeyboardInterrupt\u001b[0m: "
     ]
    }
   ],
   "source": [
    "benign = 2480\n",
    "malignant = 5429\n",
    "decrement = round((malignant - benign) * 0.05, 2)\n",
    "\n",
    "output = malignant\n",
    "\n",
    "i = 0\n",
    "while output > benign:\n",
    "    output = int(round(malignant - decrement * i))\n",
    "    print(f\"There are {benign} benign images and {output} malignant images\")\n",
    "\n",
    "    xx, yy = X, y\n",
    "\n",
    "    X_reduced, y_reduced = create_balanceset(xx, yy, output)\n",
    "\n",
    "    unique, counts = np.unique(y_reduced, return_counts=True)\n",
    "    print(dict(zip(unique, counts)))\n",
    "\n",
    "    dataset = create_torchset(X_reduced, y_reduced)\n",
    "\n",
    "    train, test, val = split_dataset(dataset)\n",
    "\n",
    "    i += 1\n",
    "\n",
    "    break"
   ]
  },
  {
   "cell_type": "code",
   "execution_count": null,
   "metadata": {},
   "outputs": [],
   "source": []
  },
  {
   "cell_type": "code",
   "execution_count": null,
   "metadata": {},
   "outputs": [
    {
     "name": "stdout",
     "output_type": "stream",
     "text": [
      "Benign: 2480, Malignant: 5429\n",
      "Número de muestras en el conjunto de entrenamiento: 4429\n",
      "Número de muestras en el conjunto de validación: 1899\n",
      "Número de muestras en el conjunto de prueba: 1581\n",
      "{0: 2480, 1: 5158}\n",
      "Número de muestras en el conjunto de entrenamiento: 4277\n",
      "Número de muestras en el conjunto de validación: 1834\n",
      "Número de muestras en el conjunto de prueba: 1527\n",
      "{0: 2480, 1: 4901}\n",
      "Número de muestras en el conjunto de entrenamiento: 4133\n",
      "Número de muestras en el conjunto de validación: 1772\n",
      "Número de muestras en el conjunto de prueba: 1476\n",
      "{0: 2480, 1: 4656}\n",
      "Número de muestras en el conjunto de entrenamiento: 3996\n",
      "Número de muestras en el conjunto de validación: 1713\n",
      "Número de muestras en el conjunto de prueba: 1427\n",
      "{0: 2480, 1: 4424}\n",
      "Número de muestras en el conjunto de entrenamiento: 3866\n",
      "Número de muestras en el conjunto de validación: 1658\n",
      "Número de muestras en el conjunto de prueba: 1380\n",
      "{0: 2480, 1: 4203}\n",
      "Número de muestras en el conjunto de entrenamiento: 3742\n",
      "Número de muestras en el conjunto de validación: 1605\n",
      "Número de muestras en el conjunto de prueba: 1336\n",
      "{0: 2480, 1: 3993}\n",
      "Número de muestras en el conjunto de entrenamiento: 3625\n",
      "Número de muestras en el conjunto de validación: 1554\n",
      "Número de muestras en el conjunto de prueba: 1294\n",
      "{0: 2480, 1: 3794}\n",
      "Número de muestras en el conjunto de entrenamiento: 3514\n",
      "Número de muestras en el conjunto de validación: 1506\n",
      "Número de muestras en el conjunto de prueba: 1254\n",
      "{0: 2480, 1: 3605}\n",
      "Número de muestras en el conjunto de entrenamiento: 3407\n",
      "Número de muestras en el conjunto de validación: 1461\n",
      "Número de muestras en el conjunto de prueba: 1217\n",
      "{0: 2480, 1: 3425}\n",
      "Número de muestras en el conjunto de entrenamiento: 3306\n",
      "Número de muestras en el conjunto de validación: 1418\n",
      "Número de muestras en el conjunto de prueba: 1181\n",
      "{0: 2480, 1: 3254}\n",
      "Número de muestras en el conjunto de entrenamiento: 3211\n",
      "Número de muestras en el conjunto de validación: 1377\n",
      "Número de muestras en el conjunto de prueba: 1146\n",
      "{0: 2480, 1: 3092}\n",
      "Número de muestras en el conjunto de entrenamiento: 3120\n",
      "Número de muestras en el conjunto de validación: 1338\n",
      "Número de muestras en el conjunto de prueba: 1114\n",
      "{0: 2480, 1: 2938}\n",
      "Número de muestras en el conjunto de entrenamiento: 3034\n",
      "Número de muestras en el conjunto de validación: 1301\n",
      "Número de muestras en el conjunto de prueba: 1083\n",
      "{0: 2480, 1: 2792}\n",
      "Número de muestras en el conjunto de entrenamiento: 2952\n",
      "Número de muestras en el conjunto de validación: 1266\n",
      "Número de muestras en el conjunto de prueba: 1054\n",
      "{0: 2480, 1: 2653}\n",
      "Número de muestras en el conjunto de entrenamiento: 2874\n",
      "Número de muestras en el conjunto de validación: 1233\n",
      "Número de muestras en el conjunto de prueba: 1026\n",
      "{0: 2480, 1: 2521}\n",
      "Número de muestras en el conjunto de entrenamiento: 2800\n",
      "Número de muestras en el conjunto de validación: 1201\n",
      "Número de muestras en el conjunto de prueba: 1000\n",
      "{0: 2480, 1: 2480}\n",
      "Número de muestras en el conjunto de entrenamiento: 2777\n",
      "Número de muestras en el conjunto de validación: 1191\n",
      "Número de muestras en el conjunto de prueba: 992\n"
     ]
    }
   ],
   "source": [
    "\n",
    "\n",
    "benign = np.sum(y == 0)\n",
    "malignant = np.sum(y == 1)\n",
    "\n",
    "print(f\"Benign: {benign}, Malignant: {malignant}\")\n",
    "dataset = create_torchset(X, y)\n",
    "train, test, val = split_dataset(dataset)\n",
    "\n",
    "while malignant >= benign:\n",
    "    xx, yy = X, y\n",
    "    X_reduced, y_reduced, n = create_balanceset(xx, yy, 5, malignant)\n",
    "\n",
    "    malignant -= n\n",
    "\n",
    "    unique, counts = np.unique(y_reduced, return_counts=True)\n",
    "    print(dict(zip(unique, counts)))\n",
    "\n",
    "    # Ahora creamos un dataset con PyTorch\n",
    "    dataset = create_torchset(X_reduced, y_reduced)\n",
    "\n",
    "    train, test, val = split_dataset(dataset)\n",
    "    \n"
   ]
  },
  {
   "cell_type": "code",
   "execution_count": null,
   "metadata": {},
   "outputs": [],
   "source": []
  }
 ],
 "metadata": {
  "kernelspec": {
   "display_name": "env",
   "language": "python",
   "name": "python3"
  },
  "language_info": {
   "codemirror_mode": {
    "name": "ipython",
    "version": 3
   },
   "file_extension": ".py",
   "mimetype": "text/x-python",
   "name": "python",
   "nbconvert_exporter": "python",
   "pygments_lexer": "ipython3",
   "version": "3.11.3"
  },
  "orig_nbformat": 4
 },
 "nbformat": 4,
 "nbformat_minor": 2
}
